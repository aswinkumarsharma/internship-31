{
 "cells": [
  {
   "cell_type": "markdown",
   "id": "3af73537",
   "metadata": {},
   "source": [
    "# 11.Write program to find factorial of number"
   ]
  },
  {
   "cell_type": "code",
   "execution_count": 1,
   "id": "25eeb423",
   "metadata": {},
   "outputs": [
    {
     "name": "stdout",
     "output_type": "stream",
     "text": [
      "Enter the number5\n",
      "Factorial of number is 120\n"
     ]
    }
   ],
   "source": [
    "fac=1\n",
    "n=int(input(\"Enter the number\"))\n",
    "if n<0:\n",
    "    print('Negative number factorial not available')\n",
    "elif n==0:\n",
    "    print('Factorial of 0 is 1')\n",
    "else:\n",
    "    for i in range(1,n+1):\n",
    "        fac = fac*i\n",
    "    print('Factorial of number is', fac)    \n",
    "        "
   ]
  },
  {
   "cell_type": "markdown",
   "id": "9bfa31fa",
   "metadata": {},
   "source": [
    "# 12. Write a python program to find whether a number is prime or composite."
   ]
  },
  {
   "cell_type": "code",
   "execution_count": 4,
   "id": "659ff0a8",
   "metadata": {},
   "outputs": [
    {
     "name": "stdout",
     "output_type": "stream",
     "text": [
      "Enter number : 2\n",
      "2  => Prime Number\n"
     ]
    }
   ],
   "source": [
    "\n",
    "n = int(input(\"Enter number : \"))\n",
    "if n == 0 or n == 1:\n",
    "    print(n,\" => Neither prime nor composite\")\n",
    "else:\n",
    "    for i in range(2,n):\n",
    "        if(n % i == 0):\n",
    "            print(n,\" => Composite Number\")\n",
    "            break\n",
    "    else:\n",
    "        print(n,\" => Prime Number\")\n"
   ]
  },
  {
   "cell_type": "markdown",
   "id": "b2c26023",
   "metadata": {},
   "source": [
    "# 13. Write a python program to check whether a given string is palindrome or not."
   ]
  },
  {
   "cell_type": "code",
   "execution_count": 11,
   "id": "cdb3e32f",
   "metadata": {},
   "outputs": [
    {
     "name": "stdout",
     "output_type": "stream",
     "text": [
      "Enter stringyou\n",
      "No\n"
     ]
    }
   ],
   "source": [
    "s=input('Enter string')\n",
    "def isPalindrome(s):\n",
    "    return s == s[::-1]\n",
    " \n",
    "\n",
    "ans = isPalindrome(s)\n",
    " \n",
    "if ans:\n",
    "    print(\"Yes\")\n",
    "else:\n",
    "    print(\"No\")"
   ]
  },
  {
   "cell_type": "markdown",
   "id": "2278e873",
   "metadata": {},
   "source": [
    "# 14. Write a Python program to get the third side of right-angled triangle from two given sides"
   ]
  },
  {
   "cell_type": "code",
   "execution_count": 21,
   "id": "a0bbdef9",
   "metadata": {},
   "outputs": [
    {
     "name": "stdout",
     "output_type": "stream",
     "text": [
      "hyp =10.0\n"
     ]
    }
   ],
   "source": [
    "def pythagoras(opp_side,adj_side,hyp):\n",
    "    if opp_side == str('x'):\n",
    "        return(\"opp =\" + str(((hyp**2)- (adj_side**2))**0.5))\n",
    "    elif adj_side == str('x'):\n",
    "        return(\"adj =\" + str(((hyp**2)- (opp_side**2))**0.5))  \n",
    "    elif hyp == str('x'):\n",
    "        return(\"hyp =\" + str(((opp_side**2) + (adj_side**2))**0.5))\n",
    "        \n",
    "    else:\n",
    "        print('NA')\n",
    "        \n",
    "print(pythagoras(6,8,'x'))        "
   ]
  },
  {
   "cell_type": "markdown",
   "id": "8ae7694f",
   "metadata": {},
   "source": [
    "# 15. Write a python program to print the frequency of each of the characters present in a given string1`"
   ]
  },
  {
   "cell_type": "code",
   "execution_count": 22,
   "id": "53820b49",
   "metadata": {},
   "outputs": [
    {
     "name": "stdout",
     "output_type": "stream",
     "text": [
      "Stringaswinsharma\n",
      "{'a': 3, 's': 2, 'w': 1, 'i': 1, 'n': 1, 'h': 1, 'r': 1, 'm': 1}\n"
     ]
    }
   ],
   "source": [
    "str = input('String')\n",
    "\n",
    "dict = {}\n",
    "\n",
    "for i in str:\n",
    " \n",
    "    if i in dict:\n",
    "        dict[i] += 1\n",
    "\n",
    "    else:\n",
    "        dict[i] = 1\n",
    "\n",
    "print(dict)"
   ]
  },
  {
   "cell_type": "code",
   "execution_count": null,
   "id": "18f90f31",
   "metadata": {},
   "outputs": [],
   "source": []
  }
 ],
 "metadata": {
  "kernelspec": {
   "display_name": "Python 3 (ipykernel)",
   "language": "python",
   "name": "python3"
  },
  "language_info": {
   "codemirror_mode": {
    "name": "ipython",
    "version": 3
   },
   "file_extension": ".py",
   "mimetype": "text/x-python",
   "name": "python",
   "nbconvert_exporter": "python",
   "pygments_lexer": "ipython3",
   "version": "3.9.7"
  }
 },
 "nbformat": 4,
 "nbformat_minor": 5
}
